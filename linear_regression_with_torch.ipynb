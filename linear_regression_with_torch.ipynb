{
 "cells": [
  {
   "cell_type": "code",
   "execution_count": 4,
   "id": "e8a23f04-2912-421e-a6d4-1ef18ef4b9ad",
   "metadata": {},
   "outputs": [],
   "source": [
    "import numpy as np\n",
    "from sklearn.linear_model import LinearRegression\n",
    "\n",
    "import torch\n",
    "import torch.optim as optim\n",
    "import torch.nn as nn\n"
   ]
  },
  {
   "cell_type": "markdown",
   "id": "f51964bc-e1ac-4e57-a2f4-6ce0ee7da67b",
   "metadata": {},
   "source": [
    "## Prepare data\n"
   ]
  },
  {
   "cell_type": "code",
   "execution_count": 24,
   "id": "056df740-dcd5-4520-89ec-6d673f2dbf8d",
   "metadata": {},
   "outputs": [],
   "source": [
    "# true_slope w: 2\n",
    "# true_intercept b: 1\n",
    "\n",
    "np.random.seed(42)\n",
    "\n",
    "x = np.random.rand(100, 1)\n",
    "noise = 0.1 * np.random.randn(100, 1)\n",
    "y = x * 2 + 1 + noise\n",
    "\n",
    "idx = np.arange(100)\n",
    "np.random.shuffle(idx)\n",
    "\n",
    "train_idx = idx[:80]\n",
    "eval_idx = idx[80:]\n",
    "x_train = x[train_idx]\n",
    "y_train = y[train_idx]\n"
   ]
  },
  {
   "cell_type": "code",
   "execution_count": 25,
   "id": "053247f0-ac50-428d-b1a0-50d4f855a9ae",
   "metadata": {},
   "outputs": [],
   "source": [
    "device = \"cuda\" if torch.cuda.is_available() else \"cpu\"\n",
    "\n",
    "x_train_tensor = torch.as_tensor(x_train).float().to(device)\n",
    "y_train_tensor = torch.as_tensor(y_train).float().to(device)"
   ]
  },
  {
   "cell_type": "markdown",
   "id": "acd65fc5-8a61-49a0-84f1-ccdf758b2bbf",
   "metadata": {},
   "source": [
    "## initialize parameters"
   ]
  },
  {
   "cell_type": "code",
   "execution_count": 7,
   "id": "fd9ec846-6c9a-406d-9f39-f8013b74d627",
   "metadata": {},
   "outputs": [
    {
     "name": "stdout",
     "output_type": "stream",
     "text": [
      "tensor([0.1288], requires_grad=True) tensor([0.3367], requires_grad=True)\n"
     ]
    }
   ],
   "source": [
    "torch.manual_seed(42)\n",
    "\n",
    "w = torch.randn(1, requires_grad = True, dtype = torch.float, device = device)\n",
    "b = torch.randn(1, requires_grad = True, dtype = torch.float, device = device)\n",
    "\n",
    "print(b, w)"
   ]
  },
  {
   "cell_type": "code",
   "execution_count": 11,
   "id": "df5960f6-cd67-4a3b-b686-0aa12808a4be",
   "metadata": {},
   "outputs": [
    {
     "name": "stdout",
     "output_type": "stream",
     "text": [
      "tensor([1.0235], requires_grad=True) tensor([1.9690], requires_grad=True)\n"
     ]
    }
   ],
   "source": [
    "# lr = 0.1\n",
    "# epochs = 1000\n",
    "# optimizer = optim.SGD([b, w], lr=lr) \n",
    "\n",
    "# lfn = nn.MSELoss(reduction='mean') \n",
    "\n",
    "# for _ in range(epochs):\n",
    "#     y_hat = x_train_tensor * w + b\n",
    "#     loss = lfn(y_hat, y_train_tensor)\n",
    "#     loss.backward()\n",
    "\n",
    "#     optimizer.step()\n",
    "#     optimizer.zero_grad()\n",
    "\n",
    "# print(b, w)"
   ]
  },
  {
   "cell_type": "markdown",
   "id": "1da13d6f-8188-4304-ab01-be5e76d0a8db",
   "metadata": {},
   "source": [
    "## manual class model"
   ]
  },
  {
   "cell_type": "code",
   "execution_count": 26,
   "id": "ec736cb5-b434-4a54-85ff-7039ae1ba4d4",
   "metadata": {},
   "outputs": [],
   "source": [
    "class ManualLinearRegression(nn.Module):\n",
    "    def __init__(self):\n",
    "        super().__init__()\n",
    "        self.b = nn.Parameter(torch.randn(1, requires_grad = True, dtype = torch.float))\n",
    "        self.w = nn.Parameter(torch.randn(1, requires_grad = True, dtype = torch.float))\n",
    "\n",
    "    def forward(self, x):\n",
    "        return self.b + self.w * x"
   ]
  },
  {
   "cell_type": "code",
   "execution_count": 27,
   "id": "10c71d1b-a7a3-4aa6-87fd-391c3e5d8da4",
   "metadata": {},
   "outputs": [
    {
     "name": "stdout",
     "output_type": "stream",
     "text": [
      "OrderedDict({'b': tensor([1.0235]), 'w': tensor([1.9690])})\n"
     ]
    }
   ],
   "source": [
    "lr = 0.1\n",
    "epochs = 1000\n",
    "torch.manual_seed(42)\n",
    "\n",
    "model = ManualLinearRegression().to(device)\n",
    "optimizer = optim.SGD(model.parameters(), lr=lr) \n",
    "\n",
    "\n",
    "lfn = nn.MSELoss(reduction='mean') \n",
    "\n",
    "for _ in range(epochs):\n",
    "    model.train()\n",
    "    y_hat = model(x_train_tensor)\n",
    "    loss = lfn(y_hat, y_train_tensor)\n",
    "    loss.backward()\n",
    "\n",
    "    optimizer.step()\n",
    "    optimizer.zero_grad()\n",
    "\n",
    "print(model.state_dict())"
   ]
  },
  {
   "cell_type": "code",
   "execution_count": null,
   "id": "d5ec4ed5-dbae-4f31-bd42-5a4482129e9d",
   "metadata": {},
   "outputs": [],
   "source": []
  }
 ],
 "metadata": {
  "kernelspec": {
   "display_name": "Python 3 (ipykernel)",
   "language": "python",
   "name": "python3"
  },
  "language_info": {
   "codemirror_mode": {
    "name": "ipython",
    "version": 3
   },
   "file_extension": ".py",
   "mimetype": "text/x-python",
   "name": "python",
   "nbconvert_exporter": "python",
   "pygments_lexer": "ipython3",
   "version": "3.12.11"
  }
 },
 "nbformat": 4,
 "nbformat_minor": 5
}
