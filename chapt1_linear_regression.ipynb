{
 "cells": [
  {
   "cell_type": "code",
   "execution_count": 1,
   "id": "7fe42f0e-8434-4740-a4c5-d480b46081ae",
   "metadata": {},
   "outputs": [],
   "source": [
    "import numpy as np"
   ]
  },
  {
   "cell_type": "markdown",
   "id": "56bb9cb3-4584-4930-a3f2-f541f64985a1",
   "metadata": {},
   "source": [
    "## generate and prepare data"
   ]
  },
  {
   "cell_type": "code",
   "execution_count": 7,
   "id": "ac51e13f-95ce-4aaf-a700-ea492d5f8f35",
   "metadata": {},
   "outputs": [],
   "source": [
    "# true_slope w: 2\n",
    "# true_intercept b: 1\n",
    "\n",
    "np.random.seed(42)\n",
    "\n",
    "x = np.random.rand(100, 1)\n",
    "noise = 0.1 * np.random.randn(100, 1)\n",
    "y = x * 2 + 1 + noise\n",
    "\n",
    "idx = np.arrange(100)\n",
    "shuffled_idx = np.random.shuffle(idx)\n",
    "\n",
    "train_idx = shuffled_idx[:80]\n",
    "eval_idx = shuffled_idx[80:]\n",
    "x_train = x[train_idx]\n",
    "y_train = y[train_idx]\n"
   ]
  },
  {
   "cell_type": "markdown",
   "id": "1dcf3a53-94ac-4f4e-b1fc-dc37b8b22b36",
   "metadata": {},
   "source": [
    "## update the parameters"
   ]
  },
  {
   "cell_type": "code",
   "execution_count": 9,
   "id": "a7cb2e0c-15de-4205-8093-a15a650de27f",
   "metadata": {},
   "outputs": [
    {
     "name": "stdout",
     "output_type": "stream",
     "text": [
      "1.0215099362698639 1.9540220438499925\n"
     ]
    }
   ],
   "source": [
    "b, w = np.random.rand(), np.random.rand()\n",
    "epochs = 1000\n",
    "# learning rate\n",
    "lr = 0.1\n",
    "\n",
    "for _ in range(epochs):\n",
    "    y_hat = b + w * x_train\n",
    "    diff = y_hat - y_train\n",
    "    loss = (diff ** 2) / 100\n",
    "\n",
    "    # calculate gradient\n",
    "    # partial derivative for w\n",
    "    w_grad = 2 * np.mean(diff * x_train)\n",
    "    # partial derivative for w\n",
    "    b_grad = 2 * np.mean(diff)\n",
    "\n",
    "    b -= b_grad * lr\n",
    "    w -= w_grad * lr\n",
    "\n",
    "print(b, w)\n",
    "    "
   ]
  },
  {
   "cell_type": "code",
   "execution_count": null,
   "id": "f3403453-994a-4536-93ee-68aa497c1fef",
   "metadata": {},
   "outputs": [],
   "source": []
  }
 ],
 "metadata": {
  "kernelspec": {
   "display_name": "Python 3 (ipykernel)",
   "language": "python",
   "name": "python3"
  },
  "language_info": {
   "codemirror_mode": {
    "name": "ipython",
    "version": 3
   },
   "file_extension": ".py",
   "mimetype": "text/x-python",
   "name": "python",
   "nbconvert_exporter": "python",
   "pygments_lexer": "ipython3",
   "version": "3.12.11"
  }
 },
 "nbformat": 4,
 "nbformat_minor": 5
}
